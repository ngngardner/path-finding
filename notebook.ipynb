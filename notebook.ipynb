{
 "cells": [
  {
   "cell_type": "code",
   "execution_count": 5,
   "metadata": {},
   "outputs": [],
   "source": [
    "from path.environment import Environment\n",
    "from path.ground_truth import get_ground_truth\n",
    "\n",
    "from path.agent import Agent\n",
    "from path.elements import Goal, Obstacle\n",
    "from path.grid import Grid"
   ]
  },
  {
   "cell_type": "code",
   "execution_count": 6,
   "metadata": {},
   "outputs": [
    {
     "name": "stdout",
     "output_type": "stream",
     "text": [
      "|#||#||#||#||#||#||#||#|\n",
      "|#||_||_||_||_||G||_||#|\n",
      "|#||_||_||_||_||_||_||#|\n",
      "|#||#||#||#||#||#||#||#|\n",
      "|#||_||_||_||_||_||_||#|\n",
      "|#||_||_||_||_||_||_||#|\n",
      "|#||_||_||_||_||A||_||#|\n",
      "|#||#||#||#||#||#||#||#|\n"
     ]
    }
   ],
   "source": [
    "env = Environment((8, 8))\n",
    "for row in range(env.rows):\n",
    "    env.gr.place(Obstacle(), (row, 0))\n",
    "    env.gr.place(Obstacle(), (row, env.cols - 1))\n",
    "for col in range(env.cols):\n",
    "    env.gr.place(Obstacle(), (0, col))\n",
    "    env.gr.place(Obstacle(), (env.rows - 1, col))\n",
    "for j in range(0, 8):\n",
    "    env.gr.place(Obstacle(), (3, j))\n",
    "\n",
    "env.goal = Goal()\n",
    "env.agent = Agent()\n",
    "\n",
    "# goal should be placed first\n",
    "env.gr.place(env.goal, (1, 5))\n",
    "env.gr.place(env.agent, (6, 5))\n",
    "env.render()"
   ]
  },
  {
   "cell_type": "code",
   "execution_count": 7,
   "metadata": {},
   "outputs": [
    {
     "ename": "IndexError",
     "evalue": "index -9999 is out of bounds for axis 0 with size 64",
     "output_type": "error",
     "traceback": [
      "\u001b[0;31m---------------------------------------------------------------------------\u001b[0m",
      "\u001b[0;31mIndexError\u001b[0m                                Traceback (most recent call last)",
      "\u001b[1;32m/home/noah/path-finding/notebook.ipynb Cell 3'\u001b[0m in \u001b[0;36m<cell line: 1>\u001b[0;34m()\u001b[0m\n\u001b[0;32m----> <a href='vscode-notebook-cell://wsl%2Bubuntu/home/noah/path-finding/notebook.ipynb#ch0000003vscode-remote?line=0'>1</a>\u001b[0m ground_truth \u001b[39m=\u001b[39m get_ground_truth(env)\n\u001b[1;32m      <a href='vscode-notebook-cell://wsl%2Bubuntu/home/noah/path-finding/notebook.ipynb#ch0000003vscode-remote?line=1'>2</a>\u001b[0m \u001b[39mprint\u001b[39m(ground_truth)\n",
      "File \u001b[0;32m<@beartype(path.ground_truth.get_ground_truth) at 0x7f6f5bb58670>:33\u001b[0m, in \u001b[0;36mget_ground_truth\u001b[0;34m(__beartype_func, __beartype_raise_exception, __beartype_object_94908049404336, *args, **kwargs)\u001b[0m\n",
      "File \u001b[0;32m~/path-finding/path/ground_truth.py:94\u001b[0m, in \u001b[0;36mget_ground_truth\u001b[0;34m(env)\u001b[0m\n\u001b[1;32m     <a href='file:///home/noah/path-finding/path/ground_truth.py?line=85'>86</a>\u001b[0m _, predecessors \u001b[39m=\u001b[39m dijkstra(\n\u001b[1;32m     <a href='file:///home/noah/path-finding/path/ground_truth.py?line=86'>87</a>\u001b[0m     adj_matrix,\n\u001b[1;32m     <a href='file:///home/noah/path-finding/path/ground_truth.py?line=87'>88</a>\u001b[0m     directed\u001b[39m=\u001b[39m\u001b[39mFalse\u001b[39;00m,\n\u001b[1;32m     <a href='file:///home/noah/path-finding/path/ground_truth.py?line=88'>89</a>\u001b[0m     indices\u001b[39m=\u001b[39mstart_idx,\n\u001b[1;32m     <a href='file:///home/noah/path-finding/path/ground_truth.py?line=89'>90</a>\u001b[0m     return_predecessors\u001b[39m=\u001b[39m\u001b[39mTrue\u001b[39;00m,\n\u001b[1;32m     <a href='file:///home/noah/path-finding/path/ground_truth.py?line=90'>91</a>\u001b[0m )\n\u001b[1;32m     <a href='file:///home/noah/path-finding/path/ground_truth.py?line=92'>93</a>\u001b[0m \u001b[39m# get shortest path as a series of correct actions\u001b[39;00m\n\u001b[0;32m---> <a href='file:///home/noah/path-finding/path/ground_truth.py?line=93'>94</a>\u001b[0m path \u001b[39m=\u001b[39m get_path(predecessors, start_idx, goal_idx)\n\u001b[1;32m     <a href='file:///home/noah/path-finding/path/ground_truth.py?line=94'>95</a>\u001b[0m actions \u001b[39m=\u001b[39m path_to_actions(path, cols)\n\u001b[1;32m     <a href='file:///home/noah/path-finding/path/ground_truth.py?line=95'>96</a>\u001b[0m \u001b[39mprint\u001b[39m([const\u001b[39m.\u001b[39mACTION_MAP_REV[action] \u001b[39mfor\u001b[39;00m action \u001b[39min\u001b[39;00m actions])\n",
      "File \u001b[0;32m~/path-finding/path/ground_truth.py:34\u001b[0m, in \u001b[0;36mget_path\u001b[0;34m(predecessors, start, goal)\u001b[0m\n\u001b[1;32m     <a href='file:///home/noah/path-finding/path/ground_truth.py?line=31'>32</a>\u001b[0m \u001b[39mwhile\u001b[39;00m current \u001b[39m!=\u001b[39m start:\n\u001b[1;32m     <a href='file:///home/noah/path-finding/path/ground_truth.py?line=32'>33</a>\u001b[0m     res\u001b[39m.\u001b[39mappend(current)\n\u001b[0;32m---> <a href='file:///home/noah/path-finding/path/ground_truth.py?line=33'>34</a>\u001b[0m     current \u001b[39m=\u001b[39m predecessors[current]\n\u001b[1;32m     <a href='file:///home/noah/path-finding/path/ground_truth.py?line=35'>36</a>\u001b[0m res\u001b[39m.\u001b[39mappend(start)\n\u001b[1;32m     <a href='file:///home/noah/path-finding/path/ground_truth.py?line=36'>37</a>\u001b[0m res\u001b[39m.\u001b[39mreverse()\n",
      "\u001b[0;31mIndexError\u001b[0m: index -9999 is out of bounds for axis 0 with size 64"
     ]
    }
   ],
   "source": [
    "ground_truth = get_ground_truth(env)\n",
    "print(ground_truth)"
   ]
  }
 ],
 "metadata": {
  "interpreter": {
   "hash": "fd6bec58e406c42546b455a13ce4616bcfd143cd4760e6bd360ededd1e77a4ea"
  },
  "kernelspec": {
   "display_name": "Python 3.10.0 ('path')",
   "language": "python",
   "name": "python3"
  },
  "language_info": {
   "codemirror_mode": {
    "name": "ipython",
    "version": 3
   },
   "file_extension": ".py",
   "mimetype": "text/x-python",
   "name": "python",
   "nbconvert_exporter": "python",
   "pygments_lexer": "ipython3",
   "version": "3.10.0"
  },
  "orig_nbformat": 4
 },
 "nbformat": 4,
 "nbformat_minor": 2
}
