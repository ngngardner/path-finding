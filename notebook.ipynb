{
 "cells": [
  {
   "cell_type": "code",
   "execution_count": 1,
   "metadata": {},
   "outputs": [],
   "source": [
    "from path.elements import Obstacle, Goal\n",
    "from path.grid import Grid"
   ]
  },
  {
   "cell_type": "code",
   "execution_count": 2,
   "metadata": {},
   "outputs": [
    {
     "name": "stdout",
     "output_type": "stream",
     "text": [
      "|_||_||_||_||_||_||_||_|\n",
      "|_||_||_||_||_||#||_||_|\n",
      "|#||_||_||_||_||_||_||_|\n",
      "|_||_||_||_||_||_||_||_|\n",
      "|_||_||_||_||_||_||#||_|\n",
      "|_||_||_||_||_||_||_||_|\n",
      "|_||_||_||_||_||G||_||_|\n",
      "|_||_||_||_||_||_||_||_|\n"
     ]
    }
   ],
   "source": [
    "gr = Grid((8, 8))\n",
    "for _ in range(3):\n",
    "    gr.place_random(Obstacle())\n",
    "gr.place_random(Goal())\n",
    "print(gr)"
   ]
  }
 ],
 "metadata": {
  "interpreter": {
   "hash": "fd6bec58e406c42546b455a13ce4616bcfd143cd4760e6bd360ededd1e77a4ea"
  },
  "kernelspec": {
   "display_name": "Python 3.10.0 ('path')",
   "language": "python",
   "name": "python3"
  },
  "language_info": {
   "codemirror_mode": {
    "name": "ipython",
    "version": 3
   },
   "file_extension": ".py",
   "mimetype": "text/x-python",
   "name": "python",
   "nbconvert_exporter": "python",
   "pygments_lexer": "ipython3",
   "version": "3.10.0"
  },
  "orig_nbformat": 4
 },
 "nbformat": 4,
 "nbformat_minor": 2
}
