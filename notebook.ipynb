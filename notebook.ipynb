{
 "cells": [
  {
   "cell_type": "code",
   "execution_count": 10,
   "metadata": {},
   "outputs": [],
   "source": [
    "from path.agent import Agent\n",
    "from path.elements import Obstacle, Goal\n",
    "from path.grid import Grid"
   ]
  },
  {
   "cell_type": "code",
   "execution_count": 12,
   "metadata": {},
   "outputs": [
    {
     "name": "stdout",
     "output_type": "stream",
     "text": [
      "|#||#||#||#||#||#||#||#|\n",
      "|#||_||_||_||_||A||_||#|\n",
      "|#||_||_||_||_||_||_||#|\n",
      "|#||_||_||_||_||_||_||#|\n",
      "|#||_||_||_||#||_||_||#|\n",
      "|#||G||_||_||_||_||_||#|\n",
      "|#||_||#||#||_||_||_||#|\n",
      "|#||#||#||#||#||#||#||#|\n"
     ]
    }
   ],
   "source": [
    "gr = Grid((8, 8))\n",
    "# barrier around edge of grid\n",
    "for i in range(8):\n",
    "    gr.place(Obstacle(), (i, 0))\n",
    "    gr.place(Obstacle(), (i, 7))\n",
    "    gr.place(Obstacle(), (0, i))\n",
    "    gr.place(Obstacle(), (7, i))\n",
    "for _ in range(3):\n",
    "    gr.place_random(Obstacle())\n",
    "gr.place_random(Goal())\n",
    "gr.place_random(Agent())\n",
    "# move agent down\n",
    "\n",
    "print(gr)"
   ]
  }
 ],
 "metadata": {
  "interpreter": {
   "hash": "fd6bec58e406c42546b455a13ce4616bcfd143cd4760e6bd360ededd1e77a4ea"
  },
  "kernelspec": {
   "display_name": "Python 3.10.0 ('path')",
   "language": "python",
   "name": "python3"
  },
  "language_info": {
   "codemirror_mode": {
    "name": "ipython",
    "version": 3
   },
   "file_extension": ".py",
   "mimetype": "text/x-python",
   "name": "python",
   "nbconvert_exporter": "python",
   "pygments_lexer": "ipython3",
   "version": "3.10.0"
  },
  "orig_nbformat": 4
 },
 "nbformat": 4,
 "nbformat_minor": 2
}
