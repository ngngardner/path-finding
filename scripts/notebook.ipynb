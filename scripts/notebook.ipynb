{
 "cells": [
  {
   "cell_type": "code",
   "execution_count": 9,
   "metadata": {},
   "outputs": [],
   "source": [
    "import numpy as np"
   ]
  },
  {
   "cell_type": "code",
   "execution_count": 13,
   "metadata": {},
   "outputs": [],
   "source": [
    "class Cell(object):\n",
    "    \"\"\"Cell holds the elements that are in the same location in the grid.\n",
    "    \"\"\"\n",
    "    def __init__(self, members:list=[]):\n",
    "        \"\"\"Initialize the cell.\n",
    "\n",
    "        Args:\n",
    "            members (list): The list of elements in the cell.\n",
    "        \"\"\"\n",
    "        self.members = members\n",
    "\n",
    "    @property\n",
    "    def movable(self):\n",
    "        \"\"\"Return the movable status of the cell.\n",
    "\n",
    "        Returns:\n",
    "            bool: True if the cell is movable, False otherwise.\n",
    "        \"\"\"\n",
    "        for member in self.members:\n",
    "            if not member.movable:\n",
    "                return False\n",
    "        return True  \n",
    "\n",
    "    def pop(self, element:object):\n",
    "        \"\"\"Remove an element from the cell members.\n",
    "        \n",
    "        Args:\n",
    "            element (object): The element to be removed.\n",
    "        \"\"\"\n",
    "        return self.members.pop(element)\n",
    "\n",
    "    def push(self, element:object):\n",
    "        \"\"\"Add an element to the cell members.\n",
    "\n",
    "        Args:\n",
    "            element (object): The element to be added.\n",
    "        \"\"\"\n",
    "        return self.members.append(element)"
   ]
  },
  {
   "cell_type": "code",
   "execution_count": 14,
   "metadata": {},
   "outputs": [],
   "source": [
    "class Element(object):\n",
    "    \"\"\"Base grid element class.\"\"\"\n",
    "    def __init__(self, movable:bool, cell:Cell|None = None):\n",
    "        self.movable = movable\n",
    "        self.cell = cell\n",
    "\n",
    "    @property\n",
    "    def is_goal(self) -> bool:\n",
    "        return False\n",
    "\n",
    "    def move(self, cell:Cell) -> None:\n",
    "        \"\"\"Move the element to a new cell.\n",
    "\n",
    "        Args:\n",
    "            cell (Cell): The cell to move to.\n",
    "        \"\"\"\n",
    "        # element has yet to be assigned to a cell\n",
    "        if self.cell is None:\n",
    "            self.cell = cell\n",
    "            self.cell.push(self)\n",
    "        # element has been assigned to a cell\n",
    "        else:\n",
    "            self.cell.pop(self)\n",
    "            self.cell = cell\n",
    "            self.cell.push(self)\n",
    "\n",
    "class Obstacle(Element):\n",
    "    \"\"\"Obstacle element class.\"\"\"\n",
    "    def __init__(self):\n",
    "        super().__init__(movable=False)\n",
    "\n",
    "class Goal(Element):\n",
    "    \"\"\"Goal element class.\"\"\"\n",
    "    @property\n",
    "    def is_goal(self) -> bool:\n",
    "        return True"
   ]
  },
  {
   "cell_type": "code",
   "execution_count": null,
   "metadata": {},
   "outputs": [],
   "source": [
    "class Agent():"
   ]
  },
  {
   "cell_type": "code",
   "execution_count": 10,
   "metadata": {},
   "outputs": [],
   "source": [
    "class Environment(object):\n",
    "    def __init__(self, size: tuple):\n",
    "        self.size = size\n",
    "        self.grid = np.zeros(size, dtype=Cell)\n",
    "\n",
    "    def move(self, element:Element, dest: tuple):\n",
    "        cell = self.grid[dest]\n",
    "        if cell.movable:\n",
    "            element.move(cell)\n",
    "        \n",
    "\n",
    "    def populate(self,sizeMin, sizeMax, count):\n",
    "\n",
    "    def obstaclePlace(self, row, col, rSize, cSize):\n",
    "        [(x,y) for x in range(row, rSize) for y in range(col, cSize)]\n",
    "            grid[x, y].cell\n",
    "\n"
   ]
  },
  {
   "cell_type": "code",
   "execution_count": 11,
   "metadata": {},
   "outputs": [
    {
     "name": "stdout",
     "output_type": "stream",
     "text": [
      "(16, 16)\n"
     ]
    }
   ],
   "source": [
    "env = Environment((16, 16))\n",
    "print(env.grid.shape)"
   ]
  }
 ],
 "metadata": {
  "interpreter": {
   "hash": "fd6bec58e406c42546b455a13ce4616bcfd143cd4760e6bd360ededd1e77a4ea"
  },
  "kernelspec": {
   "display_name": "Python 3.10.0 ('path')",
   "language": "python",
   "name": "python3"
  },
  "language_info": {
   "codemirror_mode": {
    "name": "ipython",
    "version": 3
   },
   "file_extension": ".py",
   "mimetype": "text/x-python",
   "name": "python",
   "nbconvert_exporter": "python",
   "pygments_lexer": "ipython3",
   "version": "3.10.0"
  },
  "orig_nbformat": 4
 },
 "nbformat": 4,
 "nbformat_minor": 2
}
